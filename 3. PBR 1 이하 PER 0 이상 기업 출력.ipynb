{
 "cells": [
  {
   "cell_type": "code",
   "execution_count": 3,
   "metadata": {
    "collapsed": true
   },
   "outputs": [],
   "source": [
    "import pickle"
   ]
  },
  {
   "cell_type": "code",
   "execution_count": 4,
   "metadata": {},
   "outputs": [
    {
     "data": {
      "text/plain": [
       "'with open(\"company_quarter_sheet.txt\", \"rb\") as fp:   # Unpickling\\n    company_sheet_quarter = pickle.load(fp)'"
      ]
     },
     "execution_count": 4,
     "metadata": {},
     "output_type": "execute_result"
    }
   ],
   "source": [
    "#읽어오기(전체)\n",
    "with open(\"./data/company_info.txt\", \"rb\") as fp:   # Unpickling\n",
    "    company_info = pickle.load(fp)\n",
    "with open(\"./data/company_fundamental.txt\", \"rb\") as fp:   # Unpickling\n",
    "    company_fundamental = pickle.load(fp)\n",
    "with open(\"./data/company_year_sheet.txt\", \"rb\") as fp:   # Unpickling\n",
    "    company_sheet_year = pickle.load(fp)\n",
    "\"\"\"with open(\"company_quarter_sheet.txt\", \"rb\") as fp:   # Unpickling\n",
    "    company_sheet_quarter = pickle.load(fp)\"\"\""
   ]
  },
  {
   "cell_type": "markdown",
   "metadata": {},
   "source": [
    "### 1. PBR 1 이하 기업"
   ]
  },
  {
   "cell_type": "code",
   "execution_count": 5,
   "metadata": {
    "collapsed": true
   },
   "outputs": [],
   "source": [
    "pbr_codes = []\n",
    "\n",
    "for i, val in enumerate(company_fundamental):\n",
    "    pbr_codes.append([i, list(company_fundamental[i].keys())[0], list(company_fundamental[i].values())[0][3], list(company_fundamental[i].values())[0][4]])"
   ]
  },
  {
   "cell_type": "code",
   "execution_count": 6,
   "metadata": {
    "collapsed": true
   },
   "outputs": [],
   "source": [
    "pbr_codes_list = []\n",
    "\n",
    "for i, val in enumerate(pbr_codes):\n",
    "    if val[2] == 'PBR':\n",
    "        pbr_codes_list.append([i, val[1], val[3]])\n",
    "    elif val[2] == 'EV/EBITDA' or val[2] == 'BPS':\n",
    "        i\n",
    "    else:\n",
    "        pbr_codes_list.append([i, val[1], val[2]])"
   ]
  },
  {
   "cell_type": "code",
   "execution_count": 8,
   "metadata": {},
   "outputs": [],
   "source": [
    "pbr_list = []\n",
    "\n",
    "for i, val in enumerate(pbr_codes_list):\n",
    "    if float(val[2]) < 1.0 and float(val[2]) > 0.0:\n",
    "        pbr_list.append([val[1], val[2]])"
   ]
  },
  {
   "cell_type": "code",
   "execution_count": 9,
   "metadata": {
    "collapsed": true
   },
   "outputs": [],
   "source": [
    "pbr_lower_1_0 = []\n",
    "\n",
    "for i, val in enumerate(pbr_list):\n",
    "    pbr_lower_1_0.append(val[0])"
   ]
  },
  {
   "cell_type": "code",
   "execution_count": 11,
   "metadata": {},
   "outputs": [
    {
     "name": "stdout",
     "output_type": "stream",
     "text": [
      "806\n"
     ]
    }
   ],
   "source": [
    "print(len(pbr_lower_1_0))"
   ]
  },
  {
   "cell_type": "markdown",
   "metadata": {},
   "source": [
    "### 2. PER 0 이상인 기업"
   ]
  },
  {
   "cell_type": "code",
   "execution_count": 12,
   "metadata": {
    "collapsed": true
   },
   "outputs": [],
   "source": [
    "per_codes = []\n",
    "\n",
    "for i, val in enumerate(company_fundamental):\n",
    "    per_codes.append([i, list(company_fundamental[i].keys())[0], list(company_fundamental[i].values())[0][1]])"
   ]
  },
  {
   "cell_type": "code",
   "execution_count": 13,
   "metadata": {
    "collapsed": true
   },
   "outputs": [],
   "source": [
    "per_codes_list = []\n",
    "\n",
    "for i, val in enumerate(per_codes):\n",
    "    if per_codes[2] == 'PBR':\n",
    "        i\n",
    "    else: \n",
    "        per_codes_list.append([val[1], val[2]])"
   ]
  },
  {
   "cell_type": "code",
   "execution_count": 14,
   "metadata": {
    "collapsed": true
   },
   "outputs": [],
   "source": [
    "per_list = []\n",
    "\n",
    "for i, val in enumerate(per_codes_list):\n",
    "    if '-' in val[1]:\n",
    "        i\n",
    "    else:\n",
    "        per_list.append([val[0], val[1]])"
   ]
  },
  {
   "cell_type": "code",
   "execution_count": 15,
   "metadata": {
    "collapsed": true
   },
   "outputs": [],
   "source": [
    "per_bigger_0 = []\n",
    "\n",
    "for i, val in enumerate(per_list):\n",
    "    per_bigger_0.append(val[0])"
   ]
  },
  {
   "cell_type": "code",
   "execution_count": 16,
   "metadata": {},
   "outputs": [
    {
     "name": "stdout",
     "output_type": "stream",
     "text": [
      "1602\n"
     ]
    }
   ],
   "source": [
    "print(len(per_bigger_0))"
   ]
  },
  {
   "cell_type": "code",
   "execution_count": 31,
   "metadata": {
    "collapsed": true
   },
   "outputs": [],
   "source": [
    "#PBR <1.0 PER > 0\n",
    "per_pbr_code = set(pbr_lower_1_0).intersection(per_bigger_0)"
   ]
  },
  {
   "cell_type": "code",
   "execution_count": 32,
   "metadata": {},
   "outputs": [
    {
     "name": "stdout",
     "output_type": "stream",
     "text": [
      "651\n"
     ]
    }
   ],
   "source": [
    "print(len(per_pbr_code))"
   ]
  }
 ],
 "metadata": {
  "kernelspec": {
   "display_name": "Python 3",
   "language": "python",
   "name": "python3"
  },
  "language_info": {
   "codemirror_mode": {
    "name": "ipython",
    "version": 3
   },
   "file_extension": ".py",
   "mimetype": "text/x-python",
   "name": "python",
   "nbconvert_exporter": "python",
   "pygments_lexer": "ipython3",
   "version": "3.6.1"
  }
 },
 "nbformat": 4,
 "nbformat_minor": 2
}
